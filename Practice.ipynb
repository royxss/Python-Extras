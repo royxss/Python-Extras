{
 "cells": [
  {
   "cell_type": "code",
   "execution_count": 12,
   "metadata": {},
   "outputs": [],
   "source": [
    "test_text = \"\"\"2013-10-09\\t13:22\\tMiami\\tBoots\\t99.95\\tVisa\n",
    "2013-10-09\\t13:22\\tNew York\\tDVD\\t9.50\\tMasterCard\n",
    "2013-10-09 13:22:59 I/O Error\n",
    "^d8x28orz28zoijzu1z1zp1OHH3du3ixwcz114<f\n",
    "1\\t2\\t3\"\"\"   "
   ]
  },
  {
   "cell_type": "code",
   "execution_count": 2,
   "metadata": {},
   "outputs": [
    {
     "data": {
      "text/plain": [
       "'2013-10-09\\t13:22\\tMiami\\tBoots\\t99.95\\tVisa\\n2013-10-09\\t13:22\\tNew York\\tDVD\\t9.50\\tMasterCard\\n2013-10-09 13:22:59 I/O Error\\n^d8x28orz28zoijzu1z1zp1OHH3du3ixwcz114<f\\n1\\t2\\t3'"
      ]
     },
     "execution_count": 2,
     "metadata": {},
     "output_type": "execute_result"
    }
   ],
   "source": [
    "test_text"
   ]
  },
  {
   "cell_type": "code",
   "execution_count": 38,
   "metadata": {},
   "outputs": [],
   "source": [
    "# read text\n",
    "from io import StringIO\n",
    "readln = StringIO(test_text)\n",
    "readlntxt = readln.readlines()"
   ]
  },
  {
   "cell_type": "code",
   "execution_count": 42,
   "metadata": {},
   "outputs": [
    {
     "name": "stdout",
     "output_type": "stream",
     "text": [
      "['2013-10-09', '13:22', 'Miami', 'Boots', '99.95', 'Visa']\n",
      "['2013-10-09', '13:22', 'New York', 'DVD', '9.50', 'MasterCard']\n",
      "['2013-10-09 13:22:59 I/O Error']\n",
      "['^d8x28orz28zoijzu1z1zp1OHH3du3ixwcz114<f']\n",
      "['1', '2', '3']\n"
     ]
    }
   ],
   "source": [
    "# print each line\n",
    "for line in readlntxt: \n",
    "    # read each line to create a list and print\n",
    "    out = line.strip().split(\"\\t\")\n",
    "    print(out)"
   ]
  },
  {
   "cell_type": "code",
   "execution_count": 43,
   "metadata": {},
   "outputs": [],
   "source": [
    "# Create Class\n",
    "class solution:\n",
    "    #Define function\n",
    "    def solve(self, readlntxt):\n",
    "        for line in readlntxt: \n",
    "            # read each line to create a list and print\n",
    "            out = line.strip().split(\"\\t\")\n",
    "            print(out)"
   ]
  },
  {
   "cell_type": "code",
   "execution_count": 45,
   "metadata": {},
   "outputs": [
    {
     "name": "stdout",
     "output_type": "stream",
     "text": [
      "['2013-10-09', '13:22', 'Miami', 'Boots', '99.95', 'Visa']\n",
      "['2013-10-09', '13:22', 'New York', 'DVD', '9.50', 'MasterCard']\n",
      "['2013-10-09 13:22:59 I/O Error']\n",
      "['^d8x28orz28zoijzu1z1zp1OHH3du3ixwcz114<f']\n",
      "['1', '2', '3']\n"
     ]
    }
   ],
   "source": [
    "# Create main function\n",
    "if __name__ == \"__main__\":\n",
    "    test_text = \"\"\"2013-10-09\\t13:22\\tMiami\\tBoots\\t99.95\\tVisa\n",
    "    2013-10-09\\t13:22\\tNew York\\tDVD\\t9.50\\tMasterCard\n",
    "    2013-10-09 13:22:59 I/O Error\n",
    "    ^d8x28orz28zoijzu1z1zp1OHH3du3ixwcz114<f\n",
    "    1\\t2\\t3\"\"\"   \n",
    "    from io import StringIO\n",
    "    readln = StringIO(test_text)\n",
    "    readlntxt = readln.readlines()\n",
    "    \n",
    "    # Declare class object\n",
    "    obj = solution()\n",
    "    #Call object function\n",
    "    obj.solve(readlntxt)"
   ]
  },
  {
   "cell_type": "code",
   "execution_count": 46,
   "metadata": {},
   "outputs": [],
   "source": [
    "lst = [1,2,3,4,5]"
   ]
  },
  {
   "cell_type": "code",
   "execution_count": 49,
   "metadata": {},
   "outputs": [
    {
     "data": {
      "text/plain": [
       "[5, 4, 3, 2, 1]"
      ]
     },
     "execution_count": 49,
     "metadata": {},
     "output_type": "execute_result"
    }
   ],
   "source": [
    "# List operations\n",
    "lst.reverse()\n",
    "lst"
   ]
  },
  {
   "cell_type": "code",
   "execution_count": 53,
   "metadata": {},
   "outputs": [
    {
     "data": {
      "text/plain": [
       "[1, 2, 3, 4, 5, 5]"
      ]
     },
     "execution_count": 53,
     "metadata": {},
     "output_type": "execute_result"
    }
   ],
   "source": [
    "# Append\n",
    "lst.append(5)\n",
    "lst"
   ]
  },
  {
   "cell_type": "code",
   "execution_count": 57,
   "metadata": {},
   "outputs": [
    {
     "data": {
      "text/plain": [
       "{1, 2, 3, 4, 5}"
      ]
     },
     "execution_count": 57,
     "metadata": {},
     "output_type": "execute_result"
    }
   ],
   "source": [
    "# Remove duplicate\n",
    "set(lst)"
   ]
  },
  {
   "cell_type": "code",
   "execution_count": 59,
   "metadata": {},
   "outputs": [
    {
     "data": {
      "text/plain": [
       "array([[1, 2, 3],\n",
       "       [4, 5, 6]])"
      ]
     },
     "execution_count": 59,
     "metadata": {},
     "output_type": "execute_result"
    }
   ],
   "source": [
    "import numpy as np\n",
    "# create 2d numpy array\n",
    "lst1 = [[1,2,3], [4,5,6]]\n",
    "lst1\n",
    "lst2 = np.array([[1,2,3], [4,5,6]])\n",
    "lst2"
   ]
  },
  {
   "cell_type": "code",
   "execution_count": 64,
   "metadata": {},
   "outputs": [
    {
     "data": {
      "text/plain": [
       "(2, 3)"
      ]
     },
     "execution_count": 64,
     "metadata": {},
     "output_type": "execute_result"
    }
   ],
   "source": [
    "# Check shape\n",
    "lst2.shape"
   ]
  },
  {
   "cell_type": "code",
   "execution_count": 68,
   "metadata": {},
   "outputs": [
    {
     "data": {
      "text/plain": [
       "array([5, 7, 9])"
      ]
     },
     "execution_count": 68,
     "metadata": {},
     "output_type": "execute_result"
    }
   ],
   "source": [
    "# sum all rows\n",
    "lst2.sum(axis=0)"
   ]
  },
  {
   "cell_type": "code",
   "execution_count": 88,
   "metadata": {},
   "outputs": [
    {
     "data": {
      "text/plain": [
       "array([1, 2, 3, 4, 5, 6])"
      ]
     },
     "execution_count": 88,
     "metadata": {},
     "output_type": "execute_result"
    }
   ],
   "source": [
    "# ravel (flatten array)\n",
    "lst3 = np.ravel(lst2)\n",
    "lst3"
   ]
  },
  {
   "cell_type": "code",
   "execution_count": 93,
   "metadata": {},
   "outputs": [
    {
     "data": {
      "text/plain": [
       "array([[1, 2],\n",
       "       [3, 4],\n",
       "       [5, 6]])"
      ]
     },
     "execution_count": 93,
     "metadata": {},
     "output_type": "execute_result"
    }
   ],
   "source": [
    "# reshape (unflatten). It doesn't change the original data. only the output\n",
    "np.reshape(lst3, (3,2))"
   ]
  },
  {
   "cell_type": "code",
   "execution_count": 96,
   "metadata": {},
   "outputs": [
    {
     "data": {
      "text/plain": [
       "array([[1, 2],\n",
       "       [3, 4],\n",
       "       [5, 6]])"
      ]
     },
     "execution_count": 96,
     "metadata": {},
     "output_type": "execute_result"
    }
   ],
   "source": [
    "#resize. Changes the original data\n",
    "np.resize(lst3, (3,2))"
   ]
  },
  {
   "cell_type": "code",
   "execution_count": 107,
   "metadata": {},
   "outputs": [
    {
     "data": {
      "text/plain": [
       "array([[ 0.78168515,  0.64638538],\n",
       "       [ 0.32328169,  0.95306405]])"
      ]
     },
     "execution_count": 107,
     "metadata": {},
     "output_type": "execute_result"
    }
   ],
   "source": [
    "# generate random array of 2X2\n",
    "np.random.random((2,2))"
   ]
  },
  {
   "cell_type": "code",
   "execution_count": 17,
   "metadata": {},
   "outputs": [
    {
     "ename": "NameError",
     "evalue": "name 'np' is not defined",
     "output_type": "error",
     "traceback": [
      "\u001b[1;31m---------------------------------------------------------------------------\u001b[0m",
      "\u001b[1;31mNameError\u001b[0m                                 Traceback (most recent call last)",
      "\u001b[1;32m<ipython-input-17-3f4caf0dbcb1>\u001b[0m in \u001b[0;36m<module>\u001b[1;34m()\u001b[0m\n\u001b[0;32m      1\u001b[0m \u001b[1;31m# visualize using pandas\u001b[0m\u001b[1;33m\u001b[0m\u001b[1;33m\u001b[0m\u001b[0m\n\u001b[0;32m      2\u001b[0m \u001b[1;32mimport\u001b[0m \u001b[0mpandas\u001b[0m \u001b[1;32mas\u001b[0m \u001b[0mpd\u001b[0m\u001b[1;33m\u001b[0m\u001b[0m\n\u001b[1;32m----> 3\u001b[1;33m \u001b[0mdf\u001b[0m \u001b[1;33m=\u001b[0m \u001b[0mnp\u001b[0m\u001b[1;33m.\u001b[0m\u001b[0mrandom\u001b[0m\u001b[1;33m.\u001b[0m\u001b[0mrandom\u001b[0m\u001b[1;33m(\u001b[0m\u001b[1;33m(\u001b[0m\u001b[1;36m3\u001b[0m\u001b[1;33m,\u001b[0m\u001b[1;36m2\u001b[0m\u001b[1;33m)\u001b[0m\u001b[1;33m)\u001b[0m\u001b[1;33m\u001b[0m\u001b[0m\n\u001b[0m\u001b[0;32m      4\u001b[0m \u001b[0mdf1\u001b[0m \u001b[1;33m=\u001b[0m \u001b[0mpd\u001b[0m\u001b[1;33m.\u001b[0m\u001b[0mDataFrame\u001b[0m\u001b[1;33m(\u001b[0m\u001b[0mdf\u001b[0m\u001b[1;33m)\u001b[0m\u001b[1;33m\u001b[0m\u001b[0m\n\u001b[0;32m      5\u001b[0m \u001b[0mdf1\u001b[0m\u001b[1;33m\u001b[0m\u001b[0m\n",
      "\u001b[1;31mNameError\u001b[0m: name 'np' is not defined"
     ]
    }
   ],
   "source": [
    "# visualize using pandas\n",
    "import pandas as pd\n",
    "df = np.random.random((3,2))\n",
    "df1 = pd.DataFrame(df)\n",
    "df1"
   ]
  },
  {
   "cell_type": "code",
   "execution_count": 114,
   "metadata": {},
   "outputs": [
    {
     "data": {
      "text/html": [
       "<div>\n",
       "<style scoped>\n",
       "    .dataframe tbody tr th:only-of-type {\n",
       "        vertical-align: middle;\n",
       "    }\n",
       "\n",
       "    .dataframe tbody tr th {\n",
       "        vertical-align: top;\n",
       "    }\n",
       "\n",
       "    .dataframe thead th {\n",
       "        text-align: right;\n",
       "    }\n",
       "</style>\n",
       "<table border=\"1\" class=\"dataframe\">\n",
       "  <thead>\n",
       "    <tr style=\"text-align: right;\">\n",
       "      <th></th>\n",
       "      <th>a</th>\n",
       "      <th>b</th>\n",
       "    </tr>\n",
       "  </thead>\n",
       "  <tbody>\n",
       "    <tr>\n",
       "      <th>0</th>\n",
       "      <td>0.136897</td>\n",
       "      <td>0.476469</td>\n",
       "    </tr>\n",
       "    <tr>\n",
       "      <th>1</th>\n",
       "      <td>0.750820</td>\n",
       "      <td>0.504644</td>\n",
       "    </tr>\n",
       "    <tr>\n",
       "      <th>2</th>\n",
       "      <td>0.201677</td>\n",
       "      <td>0.113719</td>\n",
       "    </tr>\n",
       "  </tbody>\n",
       "</table>\n",
       "</div>"
      ],
      "text/plain": [
       "          a         b\n",
       "0  0.136897  0.476469\n",
       "1  0.750820  0.504644\n",
       "2  0.201677  0.113719"
      ]
     },
     "execution_count": 114,
     "metadata": {},
     "output_type": "execute_result"
    }
   ],
   "source": [
    "# rename pandas columns\n",
    "df1.columns =['a', 'b']\n",
    "df1"
   ]
  },
  {
   "cell_type": "code",
   "execution_count": 118,
   "metadata": {},
   "outputs": [
    {
     "data": {
      "text/plain": [
       "0.13689663496550697"
      ]
     },
     "execution_count": 118,
     "metadata": {},
     "output_type": "execute_result"
    }
   ],
   "source": [
    "# Fetch 0,0 using index\n",
    "df1.iloc[(0,0)]"
   ]
  },
  {
   "cell_type": "code",
   "execution_count": 119,
   "metadata": {},
   "outputs": [
    {
     "data": {
      "text/plain": [
       "0.13689663496550697"
      ]
     },
     "execution_count": 119,
     "metadata": {},
     "output_type": "execute_result"
    }
   ],
   "source": [
    "# Fetch 0,0 using name\n",
    "df1.loc[(0,'a')]"
   ]
  },
  {
   "cell_type": "code",
   "execution_count": 115,
   "metadata": {},
   "outputs": [
    {
     "data": {
      "text/html": [
       "<div>\n",
       "<style scoped>\n",
       "    .dataframe tbody tr th:only-of-type {\n",
       "        vertical-align: middle;\n",
       "    }\n",
       "\n",
       "    .dataframe tbody tr th {\n",
       "        vertical-align: top;\n",
       "    }\n",
       "\n",
       "    .dataframe thead th {\n",
       "        text-align: right;\n",
       "    }\n",
       "</style>\n",
       "<table border=\"1\" class=\"dataframe\">\n",
       "  <thead>\n",
       "    <tr style=\"text-align: right;\">\n",
       "      <th></th>\n",
       "      <th>0</th>\n",
       "      <th>1</th>\n",
       "      <th>2</th>\n",
       "    </tr>\n",
       "  </thead>\n",
       "  <tbody>\n",
       "    <tr>\n",
       "      <th>0</th>\n",
       "      <td>1</td>\n",
       "      <td>2</td>\n",
       "      <td>3</td>\n",
       "    </tr>\n",
       "    <tr>\n",
       "      <th>1</th>\n",
       "      <td>4</td>\n",
       "      <td>5</td>\n",
       "      <td>6</td>\n",
       "    </tr>\n",
       "  </tbody>\n",
       "</table>\n",
       "</div>"
      ],
      "text/plain": [
       "   0  1  2\n",
       "0  1  2  3\n",
       "1  4  5  6"
      ]
     },
     "execution_count": 115,
     "metadata": {},
     "output_type": "execute_result"
    }
   ],
   "source": [
    "# view as dataframe using pandas\n",
    "pd.DataFrame(lst2)"
   ]
  },
  {
   "cell_type": "code",
   "execution_count": 135,
   "metadata": {},
   "outputs": [
    {
     "data": {
      "text/plain": [
       "'1010'"
      ]
     },
     "execution_count": 135,
     "metadata": {},
     "output_type": "execute_result"
    }
   ],
   "source": [
    "# convert into binary and strip unwanted values\n",
    "a = bin(10)\n",
    "a = str(a)\n",
    "a[2:len(a)]"
   ]
  },
  {
   "cell_type": "code",
   "execution_count": 12,
   "metadata": {},
   "outputs": [
    {
     "name": "stdout",
     "output_type": "stream",
     "text": [
      "1041\n",
      "Number entered 1041\n",
      "binary of num 1041 is 10000010001\n",
      "Longest 0's sequence is 5\n"
     ]
    }
   ],
   "source": [
    "# Input any number and find the number of continuous binary zeroes\n",
    "num = input()\n",
    "num = int(num)\n",
    "\n",
    "if num < 1:\n",
    "    raise TypeError(\"Number must be greater than 1...\")\n",
    "\n",
    "else:\n",
    "    print(\"Number entered %s\" %num)\n",
    "    binum = str(bin(num))\n",
    "    binum = binum[2:]\n",
    "    print(\"binary of num %s is %s\"  %(num, binum))\n",
    "\n",
    "    #binum = '1000100'\n",
    "    cval = None\n",
    "    maxval = 0\n",
    "    cnt = 0\n",
    "    for i in range(0, len(binum)):\n",
    "        cval = binum[i]        \n",
    "        if binum[i] == '0': \n",
    "            #print('hit')\n",
    "            cnt = cnt + 1    \n",
    "            if cnt > maxval:\n",
    "                maxval = cnt\n",
    "        else:\n",
    "            if cnt > maxval:\n",
    "                maxval = cnt\n",
    "            #print('miss')\n",
    "            cnt = 0 \n",
    "\n",
    "        ## This statement is to make the time complexity logN.\n",
    "        ## So that we don't loop through all values\n",
    "        if maxval >= len(binum)-i-1:  \n",
    "            break\n",
    "\n",
    "    print(\"Longest 0's sequence is %s\" %maxval)"
   ]
  },
  {
   "cell_type": "code",
   "execution_count": 8,
   "metadata": {},
   "outputs": [
    {
     "name": "stdout",
     "output_type": "stream",
     "text": [
      "5\n",
      "fibonacci series\n",
      "0\n",
      "1\n",
      "1\n",
      "2\n",
      "3\n"
     ]
    }
   ],
   "source": [
    "# fibonacci series\n",
    "num = input()\n",
    "num = int(num)\n",
    "#define numbers\n",
    "a = 0\n",
    "b = 1\n",
    "print(\"printing fibonacci series\")\n",
    "print(a)\n",
    "print(b)\n",
    "for i in range(0, num-2):\n",
    "    c = a+b\n",
    "    print(c)\n",
    "    a = b\n",
    "    b = c    "
   ]
  },
  {
   "cell_type": "code",
   "execution_count": 10,
   "metadata": {},
   "outputs": [
    {
     "name": "stdout",
     "output_type": "stream",
     "text": [
      "25\n"
     ]
    }
   ],
   "source": [
    "# Recursion\n",
    "# sum the numbers using recursion\n",
    "\n",
    "num = [1,3,5,7,9]\n",
    "\n",
    "def recursion(lst):\n",
    "    if len(lst) == 1:\n",
    "        return(lst[0])\n",
    "    else:\n",
    "        return(lst[0] + recursion(lst[1:]))\n",
    "    \n",
    "print(recursion(num))    "
   ]
  },
  {
   "cell_type": "code",
   "execution_count": 16,
   "metadata": {},
   "outputs": [
    {
     "name": "stdout",
     "output_type": "stream",
     "text": [
      "['a', ['b', ['d', [], []], ['e', [], []]], ['c', ['f', [], []], []]]\n",
      "left subtree =  ['b', ['d', [], []], ['e', [], []]]\n",
      "root =  a\n",
      "right subtree =  ['c', ['f', [], []], []]\n"
     ]
    }
   ],
   "source": [
    "# Implement a binary tree\n",
    "myTree = ['a',\n",
    "        ['b',\n",
    "         ['d',[],[]],\n",
    "         ['e',[],[]]], #close leaf\n",
    "        ['c',\n",
    "         ['f',[],[]],\n",
    "         []\n",
    "        ]]\n",
    "print(myTree)\n",
    "print('left subtree = ', myTree[1])\n",
    "print('root = ', myTree[0])\n",
    "print('right subtree = ', myTree[2])"
   ]
  },
  {
   "cell_type": "code",
   "execution_count": 61,
   "metadata": {},
   "outputs": [
    {
     "data": {
      "text/plain": [
       "[1, 2, 3, 4, 5]"
      ]
     },
     "execution_count": 61,
     "metadata": {},
     "output_type": "execute_result"
    }
   ],
   "source": [
    "# Rotate an array\n",
    "K = 5\n",
    "A = [1,2,3,4,5]\n",
    "head = A[len(A)-K:]\n",
    "tail = A[:len(A)-K]\n",
    "head + tail"
   ]
  },
  {
   "cell_type": "code",
   "execution_count": 62,
   "metadata": {},
   "outputs": [
    {
     "name": "stdout",
     "output_type": "stream",
     "text": [
      "0\n",
      "[1, 2, 3, 4, 5]\n"
     ]
    }
   ],
   "source": [
    "# Rotate an array Method 2\n",
    "K = 5\n",
    "A = [1,2,3,4,5]\n",
    "netK = (len(A) + K) % len(A) # this will take care if K >= length(A)\n",
    "print(netK)\n",
    "if netK > 0:\n",
    "    head = A[len(A)-netK:]\n",
    "    tail = A[:-netK]\n",
    "    print(head + tail)\n",
    "else:\n",
    "    print(A)"
   ]
  },
  {
   "cell_type": "code",
   "execution_count": 44,
   "metadata": {},
   "outputs": [
    {
     "name": "stdout",
     "output_type": "stream",
     "text": [
      "Unique elements {9, 3, 7}\n",
      "Popping element: 9\n",
      "Residual array: [3, 9, 3, 9, 7, 9]\n",
      "Popping element: 3\n",
      "Residual array: [9, 3, 9, 7, 9]\n",
      "Popping element: 7\n",
      "Residual array: [9, 3, 9, 9]\n",
      "Number without complement is: 7\n"
     ]
    }
   ],
   "source": [
    "\"\"\"generate a list of sample data: random integers in pairs\n",
    ":param L: the length of the list is double this int\n",
    ":param odd: the odd integer out\n",
    "\"\"\"\n",
    "\n",
    "arr = [9, 3, 9, 3, 9, 7, 9]   \n",
    "arrset = set(arr)\n",
    "print(\"Unique elements %s\" %arrset)\n",
    "k = len(arrset)\n",
    "\n",
    "# pop elements from set. remove elements from arr\n",
    "# if length if even then it does not have complement\n",
    "for i in range(0,k):\n",
    "    arr1 = arr\n",
    "    val = arrset.pop()\n",
    "    print(\"Popping element: %s\" %val)\n",
    "    arr1.remove(val)\n",
    "    print(\"Residual array: %s\" %arr1)\n",
    "    if val not in arr1 :\n",
    "        print(\"Number without complement is: %s\" %val)\n",
    "        break\n"
   ]
  },
  {
   "cell_type": "code",
   "execution_count": 9,
   "metadata": {},
   "outputs": [
    {
     "data": {
      "text/plain": [
       "13"
      ]
     },
     "execution_count": 9,
     "metadata": {},
     "output_type": "execute_result"
    }
   ],
   "source": [
    "# fibonachi using recursion\n",
    "def F(n):\n",
    "    if n == 0: return 0\n",
    "    elif n == 1: return 1\n",
    "    else: return F(n-1)+F(n-2)\n",
    "\n",
    "F(7)"
   ]
  },
  {
   "cell_type": "code",
   "execution_count": 23,
   "metadata": {},
   "outputs": [
    {
     "name": "stdout",
     "output_type": "stream",
     "text": [
      "[None, None, None, None, None, None, None, None, None]\n",
      "[None, None, 1, None, None, None, None, None, None]\n",
      "[None, None, 1, 2, None, None, None, None, None]\n",
      "[None, None, 1, 2, 3, None, None, None, None]\n",
      "[None, None, 1, 2, 3, 5, None, None, None]\n",
      "[None, None, 1, 2, 3, 5, 8, None, None]\n",
      "[None, None, 1, 2, 3, 5, 8, 13, None]\n",
      "[None, None, 1, 2, 3, 5, 8, 13, 21]\n"
     ]
    },
    {
     "data": {
      "text/plain": [
       "21"
      ]
     },
     "execution_count": 23,
     "metadata": {},
     "output_type": "execute_result"
    }
   ],
   "source": [
    "# fibonachi using recursion and dynamic programming\n",
    "def F(n, memo):\n",
    "    if memo[n] is not None:\n",
    "        return memo[n]\n",
    "    elif n == 0: return 0\n",
    "    elif n == 1: return 1\n",
    "    else:\n",
    "        result = F(n-1, memo) + F(n-2, memo)\n",
    "        memo[n] = result\n",
    "        print(memo)\n",
    "        return result\n",
    "\n",
    "# Initialize memo array\n",
    "def fib_memo(n):\n",
    "    memo = [None] * (n+1)\n",
    "    print(memo)\n",
    "    return F(n, memo)\n",
    "\n",
    "fib_memo(8)"
   ]
  },
  {
   "cell_type": "code",
   "execution_count": 16,
   "metadata": {},
   "outputs": [
    {
     "data": {
      "text/plain": [
       "array([[ 1.600588  , -2.51574925,  2.82355157],\n",
       "       [-0.47856873,  0.16402886, -0.08965889],\n",
       "       [-3.96922055,  6.18417837, -0.14769577]])"
      ]
     },
     "execution_count": 16,
     "metadata": {},
     "output_type": "execute_result"
    }
   ],
   "source": [
    "a = np.random.randn(3, 3)\n",
    "b = np.random.randn(3, 1)\n",
    "c = a*b\n",
    "c"
   ]
  }
 ],
 "metadata": {
  "kernelspec": {
   "display_name": "Python 3",
   "language": "python",
   "name": "python3"
  },
  "language_info": {
   "codemirror_mode": {
    "name": "ipython",
    "version": 3
   },
   "file_extension": ".py",
   "mimetype": "text/x-python",
   "name": "python",
   "nbconvert_exporter": "python",
   "pygments_lexer": "ipython3",
   "version": "3.5.4"
  }
 },
 "nbformat": 4,
 "nbformat_minor": 2
}
